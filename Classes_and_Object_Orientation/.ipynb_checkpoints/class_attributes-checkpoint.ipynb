{
 "cells": [
  {
   "cell_type": "code",
   "execution_count": 1,
   "id": "ba5abd23",
   "metadata": {},
   "outputs": [
    {
     "ename": "UnboundLocalError",
     "evalue": "local variable 'next_serial' referenced before assignment",
     "output_type": "error",
     "traceback": [
      "\u001b[0;31m---------------------------------------------------------------------------\u001b[0m",
      "\u001b[0;31mUnboundLocalError\u001b[0m                         Traceback (most recent call last)",
      "\u001b[0;32m<ipython-input-1-069ae0543d23>\u001b[0m in \u001b[0;36m<module>\u001b[0;34m\u001b[0m\n\u001b[1;32m      8\u001b[0m         \u001b[0mnext_serial\u001b[0m \u001b[0;34m+=\u001b[0m \u001b[0;36m1\u001b[0m\u001b[0;34m\u001b[0m\u001b[0;34m\u001b[0m\u001b[0m\n\u001b[1;32m      9\u001b[0m \u001b[0;34m\u001b[0m\u001b[0m\n\u001b[0;32m---> 10\u001b[0;31m \u001b[0mc3\u001b[0m \u001b[0;34m=\u001b[0m \u001b[0mShippingContainer\u001b[0m\u001b[0;34m(\u001b[0m\u001b[0;34m\"MAE\"\u001b[0m\u001b[0;34m,\u001b[0m \u001b[0;34m[\u001b[0m\u001b[0;34m\"tools\"\u001b[0m\u001b[0;34m]\u001b[0m\u001b[0;34m)\u001b[0m\u001b[0;34m\u001b[0m\u001b[0;34m\u001b[0m\u001b[0m\n\u001b[0m",
      "\u001b[0;32m<ipython-input-1-069ae0543d23>\u001b[0m in \u001b[0;36m__init__\u001b[0;34m(self, owner_code, contents)\u001b[0m\n\u001b[1;32m      5\u001b[0m         \u001b[0mself\u001b[0m\u001b[0;34m.\u001b[0m\u001b[0mowner_code\u001b[0m \u001b[0;34m=\u001b[0m \u001b[0mowner_code\u001b[0m\u001b[0;34m\u001b[0m\u001b[0;34m\u001b[0m\u001b[0m\n\u001b[1;32m      6\u001b[0m         \u001b[0mself\u001b[0m\u001b[0;34m.\u001b[0m\u001b[0mcontents\u001b[0m \u001b[0;34m=\u001b[0m \u001b[0mcontents\u001b[0m\u001b[0;34m\u001b[0m\u001b[0;34m\u001b[0m\u001b[0m\n\u001b[0;32m----> 7\u001b[0;31m         \u001b[0mself\u001b[0m\u001b[0;34m.\u001b[0m\u001b[0mserial\u001b[0m \u001b[0;34m=\u001b[0m \u001b[0mnext_serial\u001b[0m\u001b[0;34m\u001b[0m\u001b[0;34m\u001b[0m\u001b[0m\n\u001b[0m\u001b[1;32m      8\u001b[0m         \u001b[0mnext_serial\u001b[0m \u001b[0;34m+=\u001b[0m \u001b[0;36m1\u001b[0m\u001b[0;34m\u001b[0m\u001b[0;34m\u001b[0m\u001b[0m\n\u001b[1;32m      9\u001b[0m \u001b[0;34m\u001b[0m\u001b[0m\n",
      "\u001b[0;31mUnboundLocalError\u001b[0m: local variable 'next_serial' referenced before assignment"
     ]
    }
   ],
   "source": [
    "class ShippingContainer:\n",
    "    next_serial = 1337\n",
    "    \n",
    "    def __init__(self, owner_code, contents):\n",
    "        self.owner_code = owner_code\n",
    "        self.contents = contents\n",
    "        self.serial = next_serial\n",
    "        next_serial += 1\n",
    "        \n",
    "c3 = ShippingContainer(\"MAE\", [\"tools\"])"
   ]
  },
  {
   "cell_type": "markdown",
   "id": "63a65abe",
   "metadata": {},
   "source": [
    "### Escopos em Python\n",
    "\n",
    "<p><span style=\"color: red;\">Local</span>   ->    Dentro da function atual</p> \n",
    "<p><span style=\"color: purple;\">Enclosing</span>   ->    Dentro das functions envolventes</p> \n",
    "<p><span style=\"color: green;\">Global</span>   ->    No nivel top do modulo</p> \n",
    "<p><span style=\"color: blue;\">Built-in</span>   ->    No modulo especial builtins</p> "
   ]
  },
  {
   "cell_type": "markdown",
   "id": "0af387dc",
   "metadata": {},
   "source": [
    "* O bloco de class não conta como um Enclosing scope"
   ]
  },
  {
   "cell_type": "code",
   "execution_count": 9,
   "id": "f426c1e4",
   "metadata": {},
   "outputs": [
    {
     "name": "stdout",
     "output_type": "stream",
     "text": [
      "1338\n",
      "1339\n",
      "1339\n"
     ]
    }
   ],
   "source": [
    "class ShippingContainer:\n",
    "    next_serial = 1337\n",
    "    \n",
    "    def __init__(self, owner_code, contents):\n",
    "        self.owner_code = owner_code\n",
    "        self.contents = contents\n",
    "        self.serial = ShippingContainer.next_serial\n",
    "        ShippingContainer.next_serial += 1\n",
    "        \n",
    "c4 = ShippingContainer(\"ESC\", [\"eletronics\"])\n",
    "\n",
    "print(c4.next_serial)\n",
    "\n",
    "c5 = ShippingContainer(\"ESC\", [\"pharmaceuticals\"])\n",
    "print(c5.next_serial)\n",
    "\n",
    "print(ShippingContainer.next_serial)"
   ]
  },
  {
   "cell_type": "markdown",
   "id": "43bccbfe",
   "metadata": {},
   "source": [
    "```python\n",
    "class MyClass:\n",
    "    b = \"on class\"\n",
    "    \n",
    "    def __init__(self):\n",
    "        self.a = \"on instance\"\n",
    "        print(self.a)\n",
    "        print(MyClass.b)\n",
    "```\n",
    "\n",
    "Acima uma class bem simples, com um atributo de instancia a e um atributo de class b\n",
    "\n",
    "O atributo de instancia pode ser acessado por meio da referencia de objeto da instancia `self`\n",
    "E o atributo de class pode ser acessado por meio da referencia de objeto da class `MyClass`"
   ]
  }
 ],
 "metadata": {
  "kernelspec": {
   "display_name": "Python 3",
   "language": "python",
   "name": "python3"
  },
  "language_info": {
   "codemirror_mode": {
    "name": "ipython",
    "version": 3
   },
   "file_extension": ".py",
   "mimetype": "text/x-python",
   "name": "python",
   "nbconvert_exporter": "python",
   "pygments_lexer": "ipython3",
   "version": "3.8.5"
  }
 },
 "nbformat": 4,
 "nbformat_minor": 5
}
