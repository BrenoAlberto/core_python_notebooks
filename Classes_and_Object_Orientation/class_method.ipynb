{
 "cells": [
  {
   "cell_type": "code",
   "execution_count": 1,
   "id": "3dc214f0",
   "metadata": {},
   "outputs": [
    {
     "name": "stdout",
     "output_type": "stream",
     "text": [
      "1337\n",
      "1338\n"
     ]
    }
   ],
   "source": [
    "class ShippingContainer:\n",
    "    next_serial = 1337\n",
    "    \n",
    "    @classmethod\n",
    "    def _generate_serial(cls):\n",
    "        result = cls.next_serial\n",
    "        cls.next_serial += 1\n",
    "        return result\n",
    "    \n",
    "    def __init__(self, owner_code, contents):\n",
    "        self.owner_code = owner_code\n",
    "        self.contents = contents\n",
    "        self.serial = ShippingContainer._generate_serial()\n",
    "        \n",
    "c3 = ShippingContainer(\"MAE\", [\"tools\"])\n",
    "print(c3.serial)\n",
    "print(ShippingContainer.next_serial)"
   ]
  },
  {
   "cell_type": "markdown",
   "id": "8928fc31",
   "metadata": {},
   "source": [
    "## Quando usar @classmethod e quando usar @staticmethod\n",
    "\n",
    "### @classmethod\n",
    "* Quando precisar acessar o class object para chamar outros metodos de classe ou o constructor\n",
    "\n",
    "### @staticmethod\n",
    "* Quando não precisar de acesso a class ou instancias de obejtos.\n",
    "\n",
    "* Muito provavelmente um detalhe de implementação da class"
   ]
  },
  {
   "cell_type": "code",
   "execution_count": 7,
   "id": "21a56a8e",
   "metadata": {},
   "outputs": [
    {
     "name": "stdout",
     "output_type": "stream",
     "text": [
      "<__main__.ShippingContainer object at 0x7f50804f6250>\n",
      "['food', 'textiles', 'minerals']\n"
     ]
    }
   ],
   "source": [
    "class ShippingContainer:\n",
    "    next_serial = 1337\n",
    "    \n",
    "    @classmethod\n",
    "    def _generate_serial(cls):\n",
    "        result = cls.next_serial\n",
    "        cls.next_serial += 1\n",
    "        return result\n",
    "    \n",
    "    @classmethod\n",
    "    def create_empty(cls, owner_code):\n",
    "        return cls(owner_code, contents=[])\n",
    "\n",
    "    @classmethod\n",
    "    def create_with_items(cls, owner_code, items):\n",
    "        return cls(owner_code, contents=list(items))\n",
    "    \n",
    "    def __init__(self, owner_code, contents):\n",
    "        self.owner_code = owner_code\n",
    "        self.contents = contents\n",
    "        self.serial = ShippingContainer._generate_serial()\n",
    "\n",
    "c8 = ShippingContainer.create_with_items(\"MAE\", {\"food\", \"textiles\", \"minerals\"})\n",
    "\n",
    "print(c8)\n",
    "print(c8.contents)"
   ]
  },
  {
   "cell_type": "code",
   "execution_count": null,
   "id": "7495aff8",
   "metadata": {},
   "outputs": [],
   "source": [
    "class ShippingContainer:\n",
    "    next_serial = 1337\n",
    "    \n",
    "    @classmethod\n",
    "    def _generate_serial(cls):\n",
    "        result = cls.next_serial\n",
    "        cls.next_serial += 1\n",
    "        return result\n",
    "    \n",
    "    @classmethod\n",
    "    def create_empty(cls, owner_code):\n",
    "        return cls(owner_code, contents=[])\n",
    "\n",
    "    @classmethod\n",
    "    def create_with_items(cls, owner_code, items):\n",
    "        return cls(owner_code, contents=list(items))\n",
    "    \n",
    "    def __init__(self, owner_code, contents):\n",
    "        self.owner_code = owner_code\n",
    "        self.contents = contents\n",
    "        self.serial = ShippingContainer._generate_serial()\n",
    "\n",
    "c8 = ShippingContainer.create_with_items(\"MAE\", {\"food\", \"textiles\", \"minerals\"})\n",
    "\n",
    "print(c8)\n",
    "print(c8.contents)"
   ]
  }
 ],
 "metadata": {
  "kernelspec": {
   "display_name": "Python 3",
   "language": "python",
   "name": "python3"
  },
  "language_info": {
   "codemirror_mode": {
    "name": "ipython",
    "version": 3
   },
   "file_extension": ".py",
   "mimetype": "text/x-python",
   "name": "python",
   "nbconvert_exporter": "python",
   "pygments_lexer": "ipython3",
   "version": "3.8.5"
  }
 },
 "nbformat": 4,
 "nbformat_minor": 5
}
