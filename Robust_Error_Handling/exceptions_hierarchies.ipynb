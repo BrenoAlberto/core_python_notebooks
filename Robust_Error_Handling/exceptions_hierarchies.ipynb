{
 "cells": [
  {
   "cell_type": "markdown",
   "id": "bd123646",
   "metadata": {},
   "source": [
    "# Overview"
   ]
  },
  {
   "cell_type": "markdown",
   "id": "ff011ef7",
   "metadata": {},
   "source": [
    "* Relacionamentos de herança entre exceptions\n",
    "\n",
    "* Handling simplificado de exceptions\n",
    "\n",
    "* Todas exceptions herdam de uma unica base class\n",
    "\n",
    "* Diferença entre estrategias de exception handling"
   ]
  },
  {
   "cell_type": "markdown",
   "id": "5586ed59",
   "metadata": {},
   "source": [
    "## Exception Hierarchy\n",
    "\n",
    "* Exceptions são arranjadas em uma hierarquia de herança\n",
    "\n",
    "* Isso facilita a captura de exceptions por meio de suas base classes."
   ]
  },
  {
   "cell_type": "markdown",
   "id": "6f337547",
   "metadata": {},
   "source": [
    "## IndexError e KeyError"
   ]
  },
  {
   "cell_type": "code",
   "execution_count": 1,
   "id": "96aed324",
   "metadata": {},
   "outputs": [
    {
     "ename": "IndexError",
     "evalue": "list index out of range",
     "output_type": "error",
     "traceback": [
      "\u001b[0;31m---------------------------------------------------------------------------\u001b[0m",
      "\u001b[0;31mIndexError\u001b[0m                                Traceback (most recent call last)",
      "\u001b[0;32m<ipython-input-1-6c21c79e1424>\u001b[0m in \u001b[0;36m<module>\u001b[0;34m\u001b[0m\n\u001b[1;32m      1\u001b[0m \u001b[0ms\u001b[0m \u001b[0;34m=\u001b[0m \u001b[0;34m[\u001b[0m\u001b[0;36m1\u001b[0m\u001b[0;34m,\u001b[0m \u001b[0;36m3\u001b[0m\u001b[0;34m,\u001b[0m \u001b[0;36m6\u001b[0m\u001b[0;34m]\u001b[0m\u001b[0;34m\u001b[0m\u001b[0;34m\u001b[0m\u001b[0m\n\u001b[0;32m----> 2\u001b[0;31m \u001b[0ms\u001b[0m\u001b[0;34m[\u001b[0m\u001b[0;36m5\u001b[0m\u001b[0;34m]\u001b[0m\u001b[0;34m\u001b[0m\u001b[0;34m\u001b[0m\u001b[0m\n\u001b[0m",
      "\u001b[0;31mIndexError\u001b[0m: list index out of range"
     ]
    }
   ],
   "source": [
    "s = [1, 3, 6]\n",
    "s[5]"
   ]
  },
  {
   "cell_type": "code",
   "execution_count": 3,
   "id": "5590e838",
   "metadata": {},
   "outputs": [
    {
     "ename": "KeyError",
     "evalue": "'x'",
     "output_type": "error",
     "traceback": [
      "\u001b[0;31m---------------------------------------------------------------------------\u001b[0m",
      "\u001b[0;31mKeyError\u001b[0m                                  Traceback (most recent call last)",
      "\u001b[0;32m<ipython-input-3-c725bf13c28f>\u001b[0m in \u001b[0;36m<module>\u001b[0;34m\u001b[0m\n\u001b[1;32m      1\u001b[0m \u001b[0md\u001b[0m \u001b[0;34m=\u001b[0m \u001b[0mdict\u001b[0m\u001b[0;34m(\u001b[0m\u001b[0ma\u001b[0m\u001b[0;34m=\u001b[0m\u001b[0;36m65\u001b[0m\u001b[0;34m,\u001b[0m \u001b[0mb\u001b[0m\u001b[0;34m=\u001b[0m\u001b[0;36m66\u001b[0m\u001b[0;34m,\u001b[0m \u001b[0mc\u001b[0m\u001b[0;34m=\u001b[0m\u001b[0;36m67\u001b[0m\u001b[0;34m)\u001b[0m\u001b[0;34m\u001b[0m\u001b[0;34m\u001b[0m\u001b[0m\n\u001b[0;32m----> 2\u001b[0;31m \u001b[0md\u001b[0m\u001b[0;34m[\u001b[0m\u001b[0;34m'x'\u001b[0m\u001b[0;34m]\u001b[0m\u001b[0;34m\u001b[0m\u001b[0;34m\u001b[0m\u001b[0m\n\u001b[0m",
      "\u001b[0;31mKeyError\u001b[0m: 'x'"
     ]
    }
   ],
   "source": [
    "d = dict(a=65, b=66, c=67)\n",
    "d['x']"
   ]
  },
  {
   "cell_type": "markdown",
   "id": "7d6cec3f",
   "metadata": {},
   "source": [
    "## Exceptions Relacionadas\n",
    "\n",
    "* Proposito similar\n",
    "> Ambas exceções comunicam que o o valor requerido não existe.\n",
    "\n",
    "* Herança\n",
    "> Nós podemos explorar os seus grafos de herença para ver se são relacionadas.\n",
    "\n",
    "* `__mro__`\n",
    "> Nós podemos usar seus metodos de resolução como uma forma de ver o seu grafo de herança."
   ]
  },
  {
   "cell_type": "code",
   "execution_count": 4,
   "id": "2f95593c",
   "metadata": {},
   "outputs": [
    {
     "data": {
      "text/plain": [
       "(IndexError, LookupError, Exception, BaseException, object)"
      ]
     },
     "execution_count": 4,
     "metadata": {},
     "output_type": "execute_result"
    }
   ],
   "source": [
    "IndexError.__mro__"
   ]
  },
  {
   "cell_type": "code",
   "execution_count": 5,
   "id": "489b06ef",
   "metadata": {},
   "outputs": [
    {
     "data": {
      "text/plain": [
       "(KeyError, LookupError, Exception, BaseException, object)"
      ]
     },
     "execution_count": 5,
     "metadata": {},
     "output_type": "execute_result"
    }
   ],
   "source": [
    "KeyError.__mro__"
   ]
  },
  {
   "cell_type": "markdown",
   "id": "16939be2",
   "metadata": {},
   "source": [
    "* Ambas exceptions **IndexError** e **KeyError** são irmãs na hierarquia de classes\n",
    "\n",
    "* Na pratica isso signifca que podemos capturar ambas atraves da captura de **LookupError**"
   ]
  },
  {
   "cell_type": "code",
   "execution_count": 6,
   "id": "b46ea8e3",
   "metadata": {},
   "outputs": [
    {
     "name": "stdout",
     "output_type": "stream",
     "text": [
      "Handled IndexError\n",
      "Handled KeyError\n"
     ]
    }
   ],
   "source": [
    "def lookups():\n",
    "    s = [1, 4, 6]\n",
    "    try:\n",
    "        item = s[5]\n",
    "    except IndexError:\n",
    "        print(\"Handled IndexError\")\n",
    "        \n",
    "    d = dict(a=65, b=66, c=67)\n",
    "    try:\n",
    "        value = d['x']\n",
    "    except KeyError:\n",
    "        print(\"Handled KeyError\")\n",
    "        \n",
    "lookups()"
   ]
  },
  {
   "cell_type": "code",
   "execution_count": 7,
   "id": "d0929810",
   "metadata": {},
   "outputs": [
    {
     "name": "stdout",
     "output_type": "stream",
     "text": [
      "Handled IndexError\n",
      "Handled KeyError\n"
     ]
    }
   ],
   "source": [
    "def lookups():\n",
    "    s = [1, 4, 6]\n",
    "    try:\n",
    "        item = s[5]\n",
    "    except LookupError:\n",
    "        print(\"Handled IndexError\")\n",
    "        \n",
    "    d = dict(a=65, b=66, c=67)\n",
    "    try:\n",
    "        value = d['x']\n",
    "    except LookupError:\n",
    "        print(\"Handled KeyError\")\n",
    "        \n",
    "lookups()"
   ]
  }
 ],
 "metadata": {
  "kernelspec": {
   "display_name": "Python 3",
   "language": "python",
   "name": "python3"
  },
  "language_info": {
   "codemirror_mode": {
    "name": "ipython",
    "version": 3
   },
   "file_extension": ".py",
   "mimetype": "text/x-python",
   "name": "python",
   "nbconvert_exporter": "python",
   "pygments_lexer": "ipython3",
   "version": "3.8.5"
  }
 },
 "nbformat": 4,
 "nbformat_minor": 5
}
