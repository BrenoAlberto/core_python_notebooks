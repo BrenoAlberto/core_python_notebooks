{
 "cells": [
  {
   "cell_type": "markdown",
   "id": "35b32400",
   "metadata": {},
   "source": [
    "## Overview\n",
    "\n",
    "* O conceito de Python callables\n",
    "* Classes são callable objects\n",
    "* Lambdas: anonymous callable objects\n",
    "* Determine if an object is callable\n",
    "\n",
    "<hr></hr>\n",
    "\n",
    "# Callable Instances"
   ]
  },
  {
   "cell_type": "code",
   "execution_count": 3,
   "id": "873b5390",
   "metadata": {},
   "outputs": [],
   "source": [
    "import socket\n",
    "\n",
    "class Resolver:\n",
    "    def __init__(self):\n",
    "        self._cache = {}\n",
    "        \n",
    "    def __call__(self, host):\n",
    "        if host not in self._cache:\n",
    "            self._cache[host] = socket.gethostbyname(host)\n",
    "        return self._cache[host]"
   ]
  },
  {
   "cell_type": "code",
   "execution_count": 4,
   "id": "3c039e88",
   "metadata": {},
   "outputs": [
    {
     "data": {
      "text/plain": [
       "'216.58.222.78'"
      ]
     },
     "execution_count": 4,
     "metadata": {},
     "output_type": "execute_result"
    }
   ],
   "source": [
    "resolve = Resolver()\n",
    "resolve('google.com')"
   ]
  },
  {
   "cell_type": "code",
   "execution_count": 5,
   "id": "882dfcae",
   "metadata": {},
   "outputs": [
    {
     "data": {
      "text/plain": [
       "{'google.com': '216.58.222.78'}"
      ]
     },
     "execution_count": 5,
     "metadata": {},
     "output_type": "execute_result"
    }
   ],
   "source": [
    "resolve._cache"
   ]
  },
  {
   "cell_type": "code",
   "execution_count": 6,
   "id": "27e96138",
   "metadata": {},
   "outputs": [
    {
     "data": {
      "text/plain": [
       "'140.82.114.4'"
      ]
     },
     "execution_count": 6,
     "metadata": {},
     "output_type": "execute_result"
    }
   ],
   "source": [
    "resolve('github.com')"
   ]
  },
  {
   "cell_type": "code",
   "execution_count": 7,
   "id": "c614de76",
   "metadata": {},
   "outputs": [
    {
     "data": {
      "text/plain": [
       "{'google.com': '216.58.222.78', 'github.com': '140.82.114.4'}"
      ]
     },
     "execution_count": 7,
     "metadata": {},
     "output_type": "execute_result"
    }
   ],
   "source": [
    "resolve._cache"
   ]
  },
  {
   "cell_type": "code",
   "execution_count": 22,
   "id": "1644cd2d",
   "metadata": {},
   "outputs": [
    {
     "data": {
      "text/plain": [
       "0.0018148179951822385"
      ]
     },
     "execution_count": 22,
     "metadata": {},
     "output_type": "execute_result"
    }
   ],
   "source": [
    "from timeit import timeit\n",
    "\n",
    "timeit(setup=\"from __main__ import resolve\", stmt=\"resolve('medium.com')\", number=1)"
   ]
  },
  {
   "cell_type": "code",
   "execution_count": 23,
   "id": "48e026be",
   "metadata": {},
   "outputs": [
    {
     "data": {
      "text/plain": [
       "9.052004315890372e-06"
      ]
     },
     "execution_count": 23,
     "metadata": {},
     "output_type": "execute_result"
    }
   ],
   "source": [
    "timeit(setup=\"from __main__ import resolve\", stmt=\"resolve('medium.com')\", number=1)"
   ]
  },
  {
   "cell_type": "code",
   "execution_count": 24,
   "id": "7178c82e",
   "metadata": {},
   "outputs": [
    {
     "name": "stdout",
     "output_type": "stream",
     "text": [
      "0.000009\n"
     ]
    }
   ],
   "source": [
    "print(\"{:f}\".format(_))"
   ]
  },
  {
   "cell_type": "markdown",
   "id": "f1c5551f",
   "metadata": {},
   "source": [
    "* Já callable instances são class instances normais, suas classes podem definir quaisquer metodos que você quiser."
   ]
  },
  {
   "cell_type": "code",
   "execution_count": 25,
   "id": "ebd7574c",
   "metadata": {},
   "outputs": [],
   "source": [
    "import socket\n",
    "\n",
    "class Resolver:\n",
    "    def __init__(self):\n",
    "        self._cache = {}\n",
    "        \n",
    "    def __call__(self, host):\n",
    "        if host not in self._cache:\n",
    "            self._cache[host] = socket.gethostbyname(host)\n",
    "        return self._cache[host]\n",
    "    \n",
    "    def clear(self):\n",
    "        self._cache.clear()\n",
    "        \n",
    "    def has_host(self, host):\n",
    "        return host in self._cache"
   ]
  },
  {
   "cell_type": "code",
   "execution_count": 26,
   "id": "ab28fb5e",
   "metadata": {},
   "outputs": [
    {
     "data": {
      "text/plain": [
       "False"
      ]
     },
     "execution_count": 26,
     "metadata": {},
     "output_type": "execute_result"
    }
   ],
   "source": [
    "resolve = Resolver()\n",
    "resolve.has_host(\"python.org\")"
   ]
  },
  {
   "cell_type": "code",
   "execution_count": 27,
   "id": "f5c378fa",
   "metadata": {},
   "outputs": [
    {
     "data": {
      "text/plain": [
       "'45.55.99.72'"
      ]
     },
     "execution_count": 27,
     "metadata": {},
     "output_type": "execute_result"
    }
   ],
   "source": [
    "resolve(\"python.org\")"
   ]
  },
  {
   "cell_type": "code",
   "execution_count": 28,
   "id": "874b6ebb",
   "metadata": {},
   "outputs": [
    {
     "data": {
      "text/plain": [
       "True"
      ]
     },
     "execution_count": 28,
     "metadata": {},
     "output_type": "execute_result"
    }
   ],
   "source": [
    "resolve.has_host(\"python.org\")"
   ]
  },
  {
   "cell_type": "code",
   "execution_count": 29,
   "id": "0a8cf515",
   "metadata": {},
   "outputs": [],
   "source": [
    "resolve.clear()"
   ]
  },
  {
   "cell_type": "code",
   "execution_count": 30,
   "id": "9f661979",
   "metadata": {},
   "outputs": [
    {
     "data": {
      "text/plain": [
       "False"
      ]
     },
     "execution_count": 30,
     "metadata": {},
     "output_type": "execute_result"
    }
   ],
   "source": [
    "resolve.has_host(\"python.org\")"
   ]
  },
  {
   "cell_type": "markdown",
   "id": "678de5d4",
   "metadata": {},
   "source": [
    "# Classes are Callable"
   ]
  },
  {
   "cell_type": "code",
   "execution_count": 31,
   "id": "1452152c",
   "metadata": {},
   "outputs": [
    {
     "data": {
      "text/plain": [
       "<__main__.Resolver at 0x7fe67c104be0>"
      ]
     },
     "execution_count": 31,
     "metadata": {},
     "output_type": "execute_result"
    }
   ],
   "source": [
    "Resolver()"
   ]
  },
  {
   "cell_type": "code",
   "execution_count": 32,
   "id": "a249395c",
   "metadata": {},
   "outputs": [],
   "source": [
    "resolve = Resolver()"
   ]
  },
  {
   "cell_type": "markdown",
   "id": "6142bcc3",
   "metadata": {},
   "source": [
    "* A class object callable é uma função factory que quando invocada produz novas instancias dessa class"
   ]
  },
  {
   "cell_type": "code",
   "execution_count": 39,
   "id": "8586f0a9",
   "metadata": {},
   "outputs": [],
   "source": [
    "def sequence_class(immutable):\n",
    "    if immutable:\n",
    "        cls = tuple\n",
    "    else:\n",
    "        cls = list\n",
    "    return cls"
   ]
  },
  {
   "cell_type": "code",
   "execution_count": 40,
   "id": "b5c8fd80",
   "metadata": {},
   "outputs": [
    {
     "data": {
      "text/plain": [
       "('T', 'i', 'm', 'b', 'u', 'k', 't', 'u')"
      ]
     },
     "execution_count": 40,
     "metadata": {},
     "output_type": "execute_result"
    }
   ],
   "source": [
    "seq = sequence_class(immutable=True)\n",
    "t = seq(\"Timbuktu\")\n",
    "t"
   ]
  },
  {
   "cell_type": "code",
   "execution_count": 41,
   "id": "b6117966",
   "metadata": {},
   "outputs": [
    {
     "data": {
      "text/plain": [
       "tuple"
      ]
     },
     "execution_count": 41,
     "metadata": {},
     "output_type": "execute_result"
    }
   ],
   "source": [
    "type(t)"
   ]
  },
  {
   "cell_type": "code",
   "execution_count": 42,
   "id": "47d64edd",
   "metadata": {},
   "outputs": [],
   "source": [
    "def sequence_class(immutable):\n",
    "    return tuple if immutable else list"
   ]
  },
  {
   "cell_type": "markdown",
   "id": "d1a3765c",
   "metadata": {},
   "source": [
    "# Lambdas\n",
    "\n",
    "* Em muitos casos callable objects anonimos são suficientes.\n",
    "\n",
    "* lambda permite que criemos tais callable objects anonimos\n",
    "\n",
    "* use lambda com cuidado para evitar codigos de dificil leitura\n",
    "\n",
    "<hr></hr>\n",
    "\n",
    "## Sorting with a Lambda"
   ]
  },
  {
   "cell_type": "code",
   "execution_count": 43,
   "id": "7be78380",
   "metadata": {},
   "outputs": [
    {
     "data": {
      "text/plain": [
       "['Breno Alberto',\n",
       " 'Brock Lesnar',\n",
       " 'Erich Neumann',\n",
       " 'Fernanda Rodrigues',\n",
       " 'Alex Santos']"
      ]
     },
     "execution_count": 43,
     "metadata": {},
     "output_type": "execute_result"
    }
   ],
   "source": [
    "names = [\"Breno Alberto\", \"Alex Santos\", \"Fernanda Rodrigues\", \"Erich Neumann\", \"Brock Lesnar\"]\n",
    "\n",
    "sorted(names, key=lambda name: name.split()[-1])"
   ]
  },
  {
   "cell_type": "code",
   "execution_count": 44,
   "id": "80f540ce",
   "metadata": {},
   "outputs": [
    {
     "data": {
      "text/plain": [
       "<function __main__.<lambda>(name)>"
      ]
     },
     "execution_count": 44,
     "metadata": {},
     "output_type": "execute_result"
    }
   ],
   "source": [
    "last_name = lambda name: name.split()[-1]\n",
    "last_name"
   ]
  },
  {
   "cell_type": "code",
   "execution_count": 45,
   "id": "f17eff92",
   "metadata": {},
   "outputs": [
    {
     "data": {
      "text/plain": [
       "'Tesla'"
      ]
     },
     "execution_count": 45,
     "metadata": {},
     "output_type": "execute_result"
    }
   ],
   "source": [
    "last_name(\"Nikola Tesla\")"
   ]
  },
  {
   "cell_type": "code",
   "execution_count": 46,
   "id": "de79536e",
   "metadata": {},
   "outputs": [
    {
     "data": {
      "text/plain": [
       "'Breno'"
      ]
     },
     "execution_count": 46,
     "metadata": {},
     "output_type": "execute_result"
    }
   ],
   "source": [
    "def first_name(name):\n",
    "    return name.split()[0]\n",
    "\n",
    "first_name(\"Breno Alberto\")"
   ]
  },
  {
   "cell_type": "markdown",
   "id": "d1d6d71b",
   "metadata": {},
   "source": [
    "## Functions vs Lambdas\n",
    "\n",
    "* def name(args): body\n",
    "    1. Statement que define a função e atrela ao seu nome\n",
    "    2. Precisa ter um nome \n",
    "    3. Argumentos passados são delimitados por parenteses, separados por virgula\n",
    "    4. Zero ou mais argumentos são suportados - zero arguments => parentesis vazio\n",
    "    5. Body é um bloco identado de statements\n",
    "    6. Um return statement é requiredo para retornar qualquer coisa que não seja None\n",
    "    7. Funções normais podem ter docstrings.\n",
    "    8. Facil de acessar para testes.\n",
    "\n",
    "<hr></hr>\n",
    "\n",
    "* lambda args: expr\n",
    "    1. Expressão que é avaliada a uma função\n",
    "    2. Anonima\n",
    "    3. Lista de argumentos terminada por dois pontos, separados por virgulas\n",
    "    4. Zero ou mais argumentos são suportados - zero arguments => lambda :\n",
    "    5. Body é uma unica expressão\n",
    "    6. O valor de retorno é dado pela expressão do body; não é permitido return statement\n",
    "    7. Lambdas não podem ter docstrings\n",
    "    8. Estranhas ou impossiveis de testar."
   ]
  },
  {
   "cell_type": "markdown",
   "id": "049d0b6e",
   "metadata": {},
   "source": [
    "## Detecting Callable Objects"
   ]
  },
  {
   "cell_type": "code",
   "execution_count": 47,
   "id": "c2685bb8",
   "metadata": {},
   "outputs": [
    {
     "data": {
      "text/plain": [
       "True"
      ]
     },
     "execution_count": 47,
     "metadata": {},
     "output_type": "execute_result"
    }
   ],
   "source": [
    "def is_even(x):\n",
    "    return x % 2 == 0\n",
    "\n",
    "callable(is_even)"
   ]
  },
  {
   "cell_type": "code",
   "execution_count": 48,
   "id": "4ab1a9a1",
   "metadata": {},
   "outputs": [
    {
     "data": {
      "text/plain": [
       "True"
      ]
     },
     "execution_count": 48,
     "metadata": {},
     "output_type": "execute_result"
    }
   ],
   "source": [
    "is_odd = lambda x: x % 2 == 1\n",
    "callable(is_odd)"
   ]
  },
  {
   "cell_type": "markdown",
   "id": "f7b63e50",
   "metadata": {},
   "source": [
    "Class objects são callable porque chamar uma classe invoca o constructor"
   ]
  },
  {
   "cell_type": "code",
   "execution_count": 49,
   "id": "5984b213",
   "metadata": {},
   "outputs": [
    {
     "data": {
      "text/plain": [
       "True"
      ]
     },
     "execution_count": 49,
     "metadata": {},
     "output_type": "execute_result"
    }
   ],
   "source": [
    "callable(list)"
   ]
  },
  {
   "cell_type": "code",
   "execution_count": 50,
   "id": "5083aff1",
   "metadata": {},
   "outputs": [
    {
     "data": {
      "text/plain": [
       "True"
      ]
     },
     "execution_count": 50,
     "metadata": {},
     "output_type": "execute_result"
    }
   ],
   "source": [
    "callable(list.append)"
   ]
  },
  {
   "cell_type": "markdown",
   "id": "a5816a42",
   "metadata": {},
   "source": [
    "E objetos de instancia podem se tornar callable ao definir o metodo `__call__`"
   ]
  },
  {
   "cell_type": "code",
   "execution_count": 51,
   "id": "ea9387dd",
   "metadata": {},
   "outputs": [
    {
     "data": {
      "text/plain": [
       "True"
      ]
     },
     "execution_count": 51,
     "metadata": {},
     "output_type": "execute_result"
    }
   ],
   "source": [
    "class CallMe:\n",
    "    def __call__(self):\n",
    "        print(\"Called!\")\n",
    "        \n",
    "my_call_me = CallMe()\n",
    "callable(my_call_me)"
   ]
  }
 ],
 "metadata": {
  "kernelspec": {
   "display_name": "Python 3",
   "language": "python",
   "name": "python3"
  },
  "language_info": {
   "codemirror_mode": {
    "name": "ipython",
    "version": 3
   },
   "file_extension": ".py",
   "mimetype": "text/x-python",
   "name": "python",
   "nbconvert_exporter": "python",
   "pygments_lexer": "ipython3",
   "version": "3.8.5"
  }
 },
 "nbformat": 4,
 "nbformat_minor": 5
}
