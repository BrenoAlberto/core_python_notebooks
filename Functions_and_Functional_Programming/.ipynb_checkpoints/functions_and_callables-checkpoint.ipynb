{
 "cells": [
  {
   "cell_type": "markdown",
   "id": "21f8b8eb",
   "metadata": {},
   "source": [
    "## Overview\n",
    "\n",
    "* O conceito de Python callables\n",
    "* Classes são callable objects\n",
    "* Lambdas: anonymous callable objects\n",
    "* Determine if an object is callable\n",
    "\n",
    "<hr></hr>\n",
    "\n",
    "# Callable Instances"
   ]
  },
  {
   "cell_type": "code",
   "execution_count": 3,
   "id": "4ca72dad",
   "metadata": {},
   "outputs": [],
   "source": [
    "import socket\n",
    "\n",
    "class Resolver:\n",
    "    def __init__(self):\n",
    "        self._cache = {}\n",
    "        \n",
    "    def __call__(self, host):\n",
    "        if host not in self._cache:\n",
    "            self._cache[host] = socket.gethostbyname(host)\n",
    "        return self._cache[host]"
   ]
  },
  {
   "cell_type": "code",
   "execution_count": 4,
   "id": "10c50f7c",
   "metadata": {},
   "outputs": [
    {
     "data": {
      "text/plain": [
       "'216.58.222.78'"
      ]
     },
     "execution_count": 4,
     "metadata": {},
     "output_type": "execute_result"
    }
   ],
   "source": [
    "resolve = Resolver()\n",
    "resolve('google.com')"
   ]
  },
  {
   "cell_type": "code",
   "execution_count": 5,
   "id": "4fded627",
   "metadata": {},
   "outputs": [
    {
     "data": {
      "text/plain": [
       "{'google.com': '216.58.222.78'}"
      ]
     },
     "execution_count": 5,
     "metadata": {},
     "output_type": "execute_result"
    }
   ],
   "source": [
    "resolve._cache"
   ]
  },
  {
   "cell_type": "code",
   "execution_count": 6,
   "id": "654b2486",
   "metadata": {},
   "outputs": [
    {
     "data": {
      "text/plain": [
       "'140.82.114.4'"
      ]
     },
     "execution_count": 6,
     "metadata": {},
     "output_type": "execute_result"
    }
   ],
   "source": [
    "resolve('github.com')"
   ]
  },
  {
   "cell_type": "code",
   "execution_count": 7,
   "id": "e9a396ed",
   "metadata": {},
   "outputs": [
    {
     "data": {
      "text/plain": [
       "{'google.com': '216.58.222.78', 'github.com': '140.82.114.4'}"
      ]
     },
     "execution_count": 7,
     "metadata": {},
     "output_type": "execute_result"
    }
   ],
   "source": [
    "resolve._cache"
   ]
  },
  {
   "cell_type": "code",
   "execution_count": 22,
   "id": "c554eb33",
   "metadata": {},
   "outputs": [
    {
     "data": {
      "text/plain": [
       "0.0018148179951822385"
      ]
     },
     "execution_count": 22,
     "metadata": {},
     "output_type": "execute_result"
    }
   ],
   "source": [
    "from timeit import timeit\n",
    "\n",
    "timeit(setup=\"from __main__ import resolve\", stmt=\"resolve('medium.com')\", number=1)"
   ]
  },
  {
   "cell_type": "code",
   "execution_count": 23,
   "id": "978ab96b",
   "metadata": {},
   "outputs": [
    {
     "data": {
      "text/plain": [
       "9.052004315890372e-06"
      ]
     },
     "execution_count": 23,
     "metadata": {},
     "output_type": "execute_result"
    }
   ],
   "source": [
    "timeit(setup=\"from __main__ import resolve\", stmt=\"resolve('medium.com')\", number=1)"
   ]
  },
  {
   "cell_type": "code",
   "execution_count": 24,
   "id": "a1afe745",
   "metadata": {},
   "outputs": [
    {
     "name": "stdout",
     "output_type": "stream",
     "text": [
      "0.000009\n"
     ]
    }
   ],
   "source": [
    "print(\"{:f}\".format(_))"
   ]
  },
  {
   "cell_type": "markdown",
   "id": "6adf7139",
   "metadata": {},
   "source": [
    "* Já callable instances são class instances normais, suas classes podem definir quaisquer metodos que você quiser."
   ]
  },
  {
   "cell_type": "code",
   "execution_count": 25,
   "id": "08d54b97",
   "metadata": {},
   "outputs": [],
   "source": [
    "import socket\n",
    "\n",
    "class Resolver:\n",
    "    def __init__(self):\n",
    "        self._cache = {}\n",
    "        \n",
    "    def __call__(self, host):\n",
    "        if host not in self._cache:\n",
    "            self._cache[host] = socket.gethostbyname(host)\n",
    "        return self._cache[host]\n",
    "    \n",
    "    def clear(self):\n",
    "        self._cache.clear()\n",
    "        \n",
    "    def has_host(self, host):\n",
    "        return host in self._cache"
   ]
  },
  {
   "cell_type": "code",
   "execution_count": 26,
   "id": "fbf002f8",
   "metadata": {},
   "outputs": [
    {
     "data": {
      "text/plain": [
       "False"
      ]
     },
     "execution_count": 26,
     "metadata": {},
     "output_type": "execute_result"
    }
   ],
   "source": [
    "resolve = Resolver()\n",
    "resolve.has_host(\"python.org\")"
   ]
  },
  {
   "cell_type": "code",
   "execution_count": 27,
   "id": "8196d2f6",
   "metadata": {},
   "outputs": [
    {
     "data": {
      "text/plain": [
       "'45.55.99.72'"
      ]
     },
     "execution_count": 27,
     "metadata": {},
     "output_type": "execute_result"
    }
   ],
   "source": [
    "resolve(\"python.org\")"
   ]
  },
  {
   "cell_type": "code",
   "execution_count": 28,
   "id": "d412357b",
   "metadata": {},
   "outputs": [
    {
     "data": {
      "text/plain": [
       "True"
      ]
     },
     "execution_count": 28,
     "metadata": {},
     "output_type": "execute_result"
    }
   ],
   "source": [
    "resolve.has_host(\"python.org\")"
   ]
  },
  {
   "cell_type": "code",
   "execution_count": 29,
   "id": "d20dbbed",
   "metadata": {},
   "outputs": [],
   "source": [
    "resolve.clear()"
   ]
  },
  {
   "cell_type": "code",
   "execution_count": 30,
   "id": "9bb2b80a",
   "metadata": {},
   "outputs": [
    {
     "data": {
      "text/plain": [
       "False"
      ]
     },
     "execution_count": 30,
     "metadata": {},
     "output_type": "execute_result"
    }
   ],
   "source": [
    "resolve.has_host(\"python.org\")"
   ]
  },
  {
   "cell_type": "markdown",
   "id": "250132a5",
   "metadata": {},
   "source": [
    "# Classes are Callable"
   ]
  },
  {
   "cell_type": "code",
   "execution_count": 31,
   "id": "62abd34b",
   "metadata": {},
   "outputs": [
    {
     "data": {
      "text/plain": [
       "<__main__.Resolver at 0x7fe67c104be0>"
      ]
     },
     "execution_count": 31,
     "metadata": {},
     "output_type": "execute_result"
    }
   ],
   "source": [
    "Resolver()"
   ]
  },
  {
   "cell_type": "raw",
   "id": "bc0c240a",
   "metadata": {},
   "source": []
  }
 ],
 "metadata": {
  "kernelspec": {
   "display_name": "Python 3",
   "language": "python",
   "name": "python3"
  },
  "language_info": {
   "codemirror_mode": {
    "name": "ipython",
    "version": 3
   },
   "file_extension": ".py",
   "mimetype": "text/x-python",
   "name": "python",
   "nbconvert_exporter": "python",
   "pygments_lexer": "ipython3",
   "version": "3.8.5"
  }
 },
 "nbformat": 4,
 "nbformat_minor": 5
}
